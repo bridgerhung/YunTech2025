{
 "cells": [
  {
   "cell_type": "code",
   "execution_count": 1,
   "metadata": {},
   "outputs": [
    {
     "name": "stdout",
     "output_type": "stream",
     "text": [
      "John\n",
      "36\n"
     ]
    }
   ],
   "source": [
    "class Person:\n",
    "  def __init__(self, name, age):\n",
    "    self.name = name\n",
    "    self.age = age\n",
    "\n",
    "p1 = Person(\"John\", 36)\n",
    "\n",
    "print(p1.name)\n",
    "print(p1.age)"
   ]
  },
  {
   "cell_type": "code",
   "execution_count": 5,
   "metadata": {},
   "outputs": [],
   "source": [
    "class Student(Person):\n",
    "    def __init__(self, name, age, student_id):\n",
    "        super().__init__(name, age)\n",
    "        self.student_id = student_id"
   ]
  },
  {
   "cell_type": "code",
   "execution_count": 6,
   "metadata": {},
   "outputs": [
    {
     "name": "stdout",
     "output_type": "stream",
     "text": [
      "Woof!\n",
      "Meow!\n"
     ]
    }
   ],
   "source": [
    "class Dog:\n",
    "    def speak(self):\n",
    "        return \"Woof!\"\n",
    "\n",
    "class Cat:\n",
    "    def speak(self):\n",
    "        return \"Meow!\"\n",
    "\n",
    "animals = [Dog(), Cat()]\n",
    "for animal in animals:\n",
    "    print(animal.speak())"
   ]
  },
  {
   "cell_type": "code",
   "execution_count": 7,
   "metadata": {},
   "outputs": [
    {
     "name": "stdout",
     "output_type": "stream",
     "text": [
      "My name is John and I am 36 years old.\n"
     ]
    }
   ],
   "source": [
    "class Person:\n",
    "    def __init__(self, name, age):\n",
    "        self.name = name\n",
    "        self.age = age\n",
    "\n",
    "    def introduce(self):\n",
    "        return f\"My name is {self.name} and I am {self.age} years old.\"\n",
    "\n",
    "p1 = Person(\"John\", 36)\n",
    "print(p1.introduce())"
   ]
  },
  {
   "cell_type": "code",
   "execution_count": 8,
   "metadata": {},
   "outputs": [
    {
     "name": "stdout",
     "output_type": "stream",
     "text": [
      "John\n",
      "Jane\n"
     ]
    }
   ],
   "source": [
    "p1 = Person(\"John\", 36)\n",
    "print(p1.name)  # Accessing public attribute\n",
    "p1.name = \"Jane\"  # Modifying public attribute\n",
    "print(p1.name)  # Outputs: Jane"
   ]
  },
  {
   "cell_type": "code",
   "execution_count": 11,
   "metadata": {},
   "outputs": [],
   "source": [
    "class Person:\n",
    "    def __init__(self, name, age):\n",
    "        self.__name = name  # Private attribute\n",
    "        self.__age = age    # Private attribute\n",
    "\n",
    "    # Getter for name\n",
    "    def get_name(self):\n",
    "        return self.__name\n",
    "\n",
    "    # Setter for name\n",
    "    def set_name(self, name):\n",
    "        self.__name = name\n",
    "\n",
    "    # Getter for age\n",
    "    def get_age(self):\n",
    "        return self.__age\n",
    "\n",
    "    # Setter for age\n",
    "    def set_age(self, age):\n",
    "        if age > 0:  # Adding validation\n",
    "            self.__age = age\n",
    "        else:\n",
    "            raise ValueError(\"Age must be positive\")\n",
    "\n",
    "    def introduce(self):\n",
    "        return f\"My name is {self.__name} and I am {self.__age} years old.\""
   ]
  },
  {
   "cell_type": "code",
   "execution_count": 12,
   "metadata": {},
   "outputs": [
    {
     "name": "stdout",
     "output_type": "stream",
     "text": [
      "John\n",
      "36\n",
      "My name is Jane and I am 30 years old.\n",
      "Age must be positive\n"
     ]
    }
   ],
   "source": [
    "p1 = Person(\"John\", 36)\n",
    "\n",
    "# Accessing attributes through getters\n",
    "print(p1.get_name())  # Outputs: John\n",
    "print(p1.get_age())   # Outputs: 36\n",
    "\n",
    "# Modifying attributes through setters\n",
    "p1.set_name(\"Jane\")\n",
    "p1.set_age(30)\n",
    "\n",
    "print(p1.introduce())  # Outputs: My name is Jane and I am 30 years old.\n",
    "\n",
    "# Attempting to set an invalid age\n",
    "try:\n",
    "    p1.set_age(-5)  # This will raise a ValueError\n",
    "except ValueError as e:\n",
    "    print(e)  # Outputs: Age must be positive"
   ]
  },
  {
   "cell_type": "code",
   "execution_count": null,
   "metadata": {},
   "outputs": [],
   "source": [
    "class Person:\n",
    "    def __init__(self, name, age):\n",
    "        self.__name = name  # Private attribute\n",
    "        self.__age = age    # Private attribute\n",
    "    def __str__(self):\n",
    "        return f\"Person(name={self.__name}, age={self.__age})\"\n",
    "    def __repr__(self):\n",
    "        return f\"Person({self.__name!r}, {self.__age!r})\"\n",
    "p1 = Person(\"John\", 36)\n",
    "print(p1)  # Outputs: Person(name=John, age=36)\n",
    "print(repr(p1))  # Outputs: Person('John', 36)\n",
    "class Person:\n",
    "    def __init__(self, name, age):\n",
    "        self.__name = name  # Private attribute\n",
    "        self.__age = age    # Private attribute\n",
    "\n",
    "    def __str__(self):\n",
    "        return f\"Person(name={self.__name}, age={self.__age})\"\n",
    "\n",
    "    def __repr__(self):\n",
    "        return f\"Person({self.__name!r}, {self.__age!r})\"\n",
    "    def __eq__(self, other):\n",
    "        if isinstance(other, Person):\n",
    "            return self.__name == other.__name and self.__age == other.__age\n",
    "        return False\n",
    "    def __lt__(self, other):"
   ]
  }
 ],
 "metadata": {
  "kernelspec": {
   "display_name": "base",
   "language": "python",
   "name": "python3"
  },
  "language_info": {
   "codemirror_mode": {
    "name": "ipython",
    "version": 3
   },
   "file_extension": ".py",
   "mimetype": "text/x-python",
   "name": "python",
   "nbconvert_exporter": "python",
   "pygments_lexer": "ipython3",
   "version": "3.12.9"
  }
 },
 "nbformat": 4,
 "nbformat_minor": 2
}
